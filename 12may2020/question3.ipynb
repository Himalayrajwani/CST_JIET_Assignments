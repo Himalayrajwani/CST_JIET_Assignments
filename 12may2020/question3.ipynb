{
 "cells": [
  {
   "cell_type": "code",
   "execution_count": 1,
   "metadata": {},
   "outputs": [
    {
     "name": "stdout",
     "output_type": "stream",
     "text": [
      "---------------------------------\n",
      "---------------------------------\n",
      "---------------------------------\n",
      "---------------------------------\n",
      "---------------------------------\n",
      "---------------------------------\n",
      "4\n"
     ]
    }
   ],
   "source": [
    "arr=[[1, 1, 0, 0, 1, 1],[0, 1, 0, 1, 0, 0],[1, 1, 1, 0, 1, 0]]\n",
    "m=len(arr[0])\n",
    "n=len(arr)\n",
    "\n",
    "l=0\n",
    "sum=0\n",
    "for i in  range(m):\n",
    "    for j in range(n):\n",
    "        if arr[j][i]==1:\n",
    "            l=l+1\n",
    "    if l%2==1:\n",
    "        sum=sum+1\n",
    "    l=0\n",
    "    print(\"---------------------------------\")\n",
    "print(sum)"
   ]
  },
  {
   "cell_type": "code",
   "execution_count": null,
   "metadata": {},
   "outputs": [],
   "source": []
  }
 ],
 "metadata": {
  "kernelspec": {
   "display_name": "Python 3",
   "language": "python",
   "name": "python3"
  },
  "language_info": {
   "codemirror_mode": {
    "name": "ipython",
    "version": 3
   },
   "file_extension": ".py",
   "mimetype": "text/x-python",
   "name": "python",
   "nbconvert_exporter": "python",
   "pygments_lexer": "ipython3",
   "version": "3.7.4"
  }
 },
 "nbformat": 4,
 "nbformat_minor": 2
}
